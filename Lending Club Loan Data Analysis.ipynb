{
 "cells": [
  {
   "cell_type": "code",
   "execution_count": 1,
   "metadata": {},
   "outputs": [],
   "source": [
    "import pandas as pd\n",
    "import numpy as np\n",
    "import matplotlib.pyplot as plt\n",
    "import seaborn as sns\n",
    "%matplotlib inline"
   ]
  },
  {
   "cell_type": "code",
   "execution_count": 2,
   "metadata": {},
   "outputs": [
    {
     "data": {
      "text/html": [
       "<div>\n",
       "<style scoped>\n",
       "    .dataframe tbody tr th:only-of-type {\n",
       "        vertical-align: middle;\n",
       "    }\n",
       "\n",
       "    .dataframe tbody tr th {\n",
       "        vertical-align: top;\n",
       "    }\n",
       "\n",
       "    .dataframe thead th {\n",
       "        text-align: right;\n",
       "    }\n",
       "</style>\n",
       "<table border=\"1\" class=\"dataframe\">\n",
       "  <thead>\n",
       "    <tr style=\"text-align: right;\">\n",
       "      <th></th>\n",
       "      <th>credit.policy</th>\n",
       "      <th>purpose</th>\n",
       "      <th>int.rate</th>\n",
       "      <th>installment</th>\n",
       "      <th>log.annual.inc</th>\n",
       "      <th>dti</th>\n",
       "      <th>fico</th>\n",
       "      <th>days.with.cr.line</th>\n",
       "      <th>revol.bal</th>\n",
       "      <th>revol.util</th>\n",
       "      <th>inq.last.6mths</th>\n",
       "      <th>delinq.2yrs</th>\n",
       "      <th>pub.rec</th>\n",
       "      <th>not.fully.paid</th>\n",
       "    </tr>\n",
       "  </thead>\n",
       "  <tbody>\n",
       "    <tr>\n",
       "      <th>0</th>\n",
       "      <td>1</td>\n",
       "      <td>debt_consolidation</td>\n",
       "      <td>0.1189</td>\n",
       "      <td>829.10</td>\n",
       "      <td>11.350407</td>\n",
       "      <td>19.48</td>\n",
       "      <td>737</td>\n",
       "      <td>5639.958333</td>\n",
       "      <td>28854</td>\n",
       "      <td>52.1</td>\n",
       "      <td>0</td>\n",
       "      <td>0</td>\n",
       "      <td>0</td>\n",
       "      <td>0</td>\n",
       "    </tr>\n",
       "    <tr>\n",
       "      <th>1</th>\n",
       "      <td>1</td>\n",
       "      <td>credit_card</td>\n",
       "      <td>0.1071</td>\n",
       "      <td>228.22</td>\n",
       "      <td>11.082143</td>\n",
       "      <td>14.29</td>\n",
       "      <td>707</td>\n",
       "      <td>2760.000000</td>\n",
       "      <td>33623</td>\n",
       "      <td>76.7</td>\n",
       "      <td>0</td>\n",
       "      <td>0</td>\n",
       "      <td>0</td>\n",
       "      <td>0</td>\n",
       "    </tr>\n",
       "    <tr>\n",
       "      <th>2</th>\n",
       "      <td>1</td>\n",
       "      <td>debt_consolidation</td>\n",
       "      <td>0.1357</td>\n",
       "      <td>366.86</td>\n",
       "      <td>10.373491</td>\n",
       "      <td>11.63</td>\n",
       "      <td>682</td>\n",
       "      <td>4710.000000</td>\n",
       "      <td>3511</td>\n",
       "      <td>25.6</td>\n",
       "      <td>1</td>\n",
       "      <td>0</td>\n",
       "      <td>0</td>\n",
       "      <td>0</td>\n",
       "    </tr>\n",
       "    <tr>\n",
       "      <th>3</th>\n",
       "      <td>1</td>\n",
       "      <td>debt_consolidation</td>\n",
       "      <td>0.1008</td>\n",
       "      <td>162.34</td>\n",
       "      <td>11.350407</td>\n",
       "      <td>8.10</td>\n",
       "      <td>712</td>\n",
       "      <td>2699.958333</td>\n",
       "      <td>33667</td>\n",
       "      <td>73.2</td>\n",
       "      <td>1</td>\n",
       "      <td>0</td>\n",
       "      <td>0</td>\n",
       "      <td>0</td>\n",
       "    </tr>\n",
       "    <tr>\n",
       "      <th>4</th>\n",
       "      <td>1</td>\n",
       "      <td>credit_card</td>\n",
       "      <td>0.1426</td>\n",
       "      <td>102.92</td>\n",
       "      <td>11.299732</td>\n",
       "      <td>14.97</td>\n",
       "      <td>667</td>\n",
       "      <td>4066.000000</td>\n",
       "      <td>4740</td>\n",
       "      <td>39.5</td>\n",
       "      <td>0</td>\n",
       "      <td>1</td>\n",
       "      <td>0</td>\n",
       "      <td>0</td>\n",
       "    </tr>\n",
       "  </tbody>\n",
       "</table>\n",
       "</div>"
      ],
      "text/plain": [
       "   credit.policy             purpose  int.rate  installment  log.annual.inc  \\\n",
       "0              1  debt_consolidation    0.1189       829.10       11.350407   \n",
       "1              1         credit_card    0.1071       228.22       11.082143   \n",
       "2              1  debt_consolidation    0.1357       366.86       10.373491   \n",
       "3              1  debt_consolidation    0.1008       162.34       11.350407   \n",
       "4              1         credit_card    0.1426       102.92       11.299732   \n",
       "\n",
       "     dti  fico  days.with.cr.line  revol.bal  revol.util  inq.last.6mths  \\\n",
       "0  19.48   737        5639.958333      28854        52.1               0   \n",
       "1  14.29   707        2760.000000      33623        76.7               0   \n",
       "2  11.63   682        4710.000000       3511        25.6               1   \n",
       "3   8.10   712        2699.958333      33667        73.2               1   \n",
       "4  14.97   667        4066.000000       4740        39.5               0   \n",
       "\n",
       "   delinq.2yrs  pub.rec  not.fully.paid  \n",
       "0            0        0               0  \n",
       "1            0        0               0  \n",
       "2            0        0               0  \n",
       "3            0        0               0  \n",
       "4            1        0               0  "
      ]
     },
     "execution_count": 2,
     "metadata": {},
     "output_type": "execute_result"
    }
   ],
   "source": [
    "df=pd.read_csv(\"loan_data.csv\")\n",
    "df.head()"
   ]
  },
  {
   "cell_type": "code",
   "execution_count": 3,
   "metadata": {},
   "outputs": [
    {
     "name": "stdout",
     "output_type": "stream",
     "text": [
      "<class 'pandas.core.frame.DataFrame'>\n",
      "RangeIndex: 9578 entries, 0 to 9577\n",
      "Data columns (total 14 columns):\n",
      " #   Column             Non-Null Count  Dtype  \n",
      "---  ------             --------------  -----  \n",
      " 0   credit.policy      9578 non-null   int64  \n",
      " 1   purpose            9578 non-null   object \n",
      " 2   int.rate           9578 non-null   float64\n",
      " 3   installment        9578 non-null   float64\n",
      " 4   log.annual.inc     9578 non-null   float64\n",
      " 5   dti                9578 non-null   float64\n",
      " 6   fico               9578 non-null   int64  \n",
      " 7   days.with.cr.line  9578 non-null   float64\n",
      " 8   revol.bal          9578 non-null   int64  \n",
      " 9   revol.util         9578 non-null   float64\n",
      " 10  inq.last.6mths     9578 non-null   int64  \n",
      " 11  delinq.2yrs        9578 non-null   int64  \n",
      " 12  pub.rec            9578 non-null   int64  \n",
      " 13  not.fully.paid     9578 non-null   int64  \n",
      "dtypes: float64(6), int64(7), object(1)\n",
      "memory usage: 1.0+ MB\n"
     ]
    }
   ],
   "source": [
    "df.info()"
   ]
  },
  {
   "cell_type": "code",
   "execution_count": 4,
   "metadata": {},
   "outputs": [
    {
     "data": {
      "text/plain": [
       "credit.policy        0\n",
       "purpose              0\n",
       "int.rate             0\n",
       "installment          0\n",
       "log.annual.inc       0\n",
       "dti                  0\n",
       "fico                 0\n",
       "days.with.cr.line    0\n",
       "revol.bal            0\n",
       "revol.util           0\n",
       "inq.last.6mths       0\n",
       "delinq.2yrs          0\n",
       "pub.rec              0\n",
       "not.fully.paid       0\n",
       "dtype: int64"
      ]
     },
     "execution_count": 4,
     "metadata": {},
     "output_type": "execute_result"
    }
   ],
   "source": [
    "df.isnull().sum()"
   ]
  },
  {
   "cell_type": "code",
   "execution_count": 5,
   "metadata": {},
   "outputs": [
    {
     "data": {
      "text/plain": [
       "<matplotlib.axes._subplots.AxesSubplot at 0x20ffd6147f0>"
      ]
     },
     "execution_count": 5,
     "metadata": {},
     "output_type": "execute_result"
    },
    {
     "data": {
      "image/png": "[encoded data removed]",
      "text/plain": [
       "<Figure size 864x432 with 1 Axes>"
      ]
     },
     "metadata": {},
     "output_type": "display_data"
    }
   ],
   "source": [
    "plt.figure(figsize=(12,6))\n",
    "sns.countplot(data=df,x=\"purpose\",hue='not.fully.paid')"
   ]
  },
  {
   "cell_type": "markdown",
   "metadata": {},
   "source": [
    "Purpose of the loan and not fully paid graphs.\n",
    " Most counts are seen for \"debt_consolidation\" and \"not.fully.paid\" "
   ]
  },
  {
   "cell_type": "code",
   "execution_count": null,
   "metadata": {},
   "outputs": [],
   "source": []
  },
  {
   "cell_type": "code",
   "execution_count": 6,
   "metadata": {},
   "outputs": [
    {
     "data": {
      "image/png": "[encoded data removed]",
      "text/plain": [
       "<Figure size 864x432 with 2 Axes>"
      ]
     },
     "metadata": {},
     "output_type": "display_data"
    }
   ],
   "source": [
    "plt.figure(figsize=(12,6))\n",
    "sns.heatmap(df.corr() ,cmap ='coolwarm',cbar=True,annot=True,linewidths=.5)\n",
    "plt.show()"
   ]
  },
  {
   "cell_type": "markdown",
   "metadata": {},
   "source": [
    "\"revol, util\", \"installment\" ,\"pub.rec\" and \"dti\" in moderately correlated  \n",
    "\n",
    "\"delinq.2yrs\" is not correlate to \"not.fully.paid\""
   ]
  },
  {
   "cell_type": "code",
   "execution_count": 7,
   "metadata": {},
   "outputs": [
    {
     "data": {
      "text/plain": [
       "not.fully.paid       1.000000\n",
       "int.rate             0.159552\n",
       "inq.last.6mths       0.149452\n",
       "revol.util           0.082088\n",
       "revol.bal            0.053699\n",
       "installment          0.049955\n",
       "pub.rec              0.048634\n",
       "dti                  0.037362\n",
       "delinq.2yrs          0.008881\n",
       "days.with.cr.line   -0.029237\n",
       "log.annual.inc      -0.033439\n",
       "fico                -0.149666\n",
       "credit.policy       -0.158119\n",
       "Name: not.fully.paid, dtype: float64"
      ]
     },
     "execution_count": 7,
     "metadata": {},
     "output_type": "execute_result"
    }
   ],
   "source": [
    "df.corr()['not.fully.paid'].sort_values(ascending = False)"
   ]
  },
  {
   "cell_type": "markdown",
   "metadata": {},
   "source": [
    "summary of co-relation with \"not.fully.paid\""
   ]
  },
  {
   "cell_type": "code",
   "execution_count": 8,
   "metadata": {},
   "outputs": [
    {
     "name": "stderr",
     "output_type": "stream",
     "text": [
      "C:\\Users\\LENOVO\\Anaconda3\\lib\\site-packages\\scipy\\stats\\stats.py:1713: FutureWarning: Using a non-tuple sequence for multidimensional indexing is deprecated; use `arr[tuple(seq)]` instead of `arr[seq]`. In the future this will be interpreted as an array index, `arr[np.array(seq)]`, which will result either in an error or a different result.\n",
      "  return np.add.reduce(sorted[indexer] * weights, axis=axis) / sumval\n",
      "C:\\Users\\LENOVO\\Anaconda3\\lib\\site-packages\\matplotlib\\axes\\_axes.py:6462: UserWarning: The 'normed' kwarg is deprecated, and has been replaced by the 'density' kwarg.\n",
      "  warnings.warn(\"The 'normed' kwarg is deprecated, and has been \"\n",
      "C:\\Users\\LENOVO\\Anaconda3\\lib\\site-packages\\scipy\\stats\\stats.py:1713: FutureWarning: Using a non-tuple sequence for multidimensional indexing is deprecated; use `arr[tuple(seq)]` instead of `arr[seq]`. In the future this will be interpreted as an array index, `arr[np.array(seq)]`, which will result either in an error or a different result.\n",
      "  return np.add.reduce(sorted[indexer] * weights, axis=axis) / sumval\n",
      "C:\\Users\\LENOVO\\Anaconda3\\lib\\site-packages\\matplotlib\\axes\\_axes.py:6462: UserWarning: The 'normed' kwarg is deprecated, and has been replaced by the 'density' kwarg.\n",
      "  warnings.warn(\"The 'normed' kwarg is deprecated, and has been \"\n"
     ]
    },
    {
     "data": {
      "text/plain": [
       "Text(0.5,1,'int.rate Distribution')"
      ]
     },
     "execution_count": 8,
     "metadata": {},
     "output_type": "execute_result"
    },
    {
     "data": {
      "image/png": "[encoded data removed]",
      "text/plain": [
       "<Figure size 720x288 with 1 Axes>"
      ]
     },
     "metadata": {},
     "output_type": "display_data"
    }
   ],
   "source": [
    "plt.figure(figsize=(10,4))\n",
    "sns.distplot(df[df[\"not.fully.paid\"] == 0]['int.rate'], color = 'g',label='Personal Loan=0')\n",
    "sns.distplot(df[df[\"not.fully.paid\"] == 1]['int.rate'], color = 'b',label='Personal Loan=1')\n",
    "plt.legend()\n",
    "plt.title(\"int.rate Distribution\")"
   ]
  },
  {
   "cell_type": "code",
   "execution_count": 9,
   "metadata": {},
   "outputs": [
    {
     "data": {
      "image/png": "[encoded data removed]",
      "text/plain": [
       "<Figure size 1152x864 with 16 Axes>"
      ]
     },
     "metadata": {},
     "output_type": "display_data"
    }
   ],
   "source": [
    "df.hist(bins=10 ,figsize=(16,12), color = 'Yellow')\n",
    "plt.show()"
   ]
  },
  {
   "cell_type": "code",
   "execution_count": 10,
   "metadata": {},
   "outputs": [
    {
     "data": {
      "text/plain": [
       "credit.policy           2\n",
       "purpose                 7\n",
       "int.rate              249\n",
       "installment          4788\n",
       "log.annual.inc       1987\n",
       "dti                  2529\n",
       "fico                   44\n",
       "days.with.cr.line    2687\n",
       "revol.bal            7869\n",
       "revol.util           1035\n",
       "inq.last.6mths         28\n",
       "delinq.2yrs            11\n",
       "pub.rec                 6\n",
       "not.fully.paid          2\n",
       "dtype: int64"
      ]
     },
     "execution_count": 10,
     "metadata": {},
     "output_type": "execute_result"
    }
   ],
   "source": [
    "df.nunique()"
   ]
  },
  {
   "cell_type": "markdown",
   "metadata": {},
   "source": [
    "Checking the number of unique values in each features"
   ]
  },
  {
   "cell_type": "code",
   "execution_count": 11,
   "metadata": {},
   "outputs": [
    {
     "data": {
      "text/html": [
       "<div>\n",
       "<style scoped>\n",
       "    .dataframe tbody tr th:only-of-type {\n",
       "        vertical-align: middle;\n",
       "    }\n",
       "\n",
       "    .dataframe tbody tr th {\n",
       "        vertical-align: top;\n",
       "    }\n",
       "\n",
       "    .dataframe thead th {\n",
       "        text-align: right;\n",
       "    }\n",
       "</style>\n",
       "<table border=\"1\" class=\"dataframe\">\n",
       "  <thead>\n",
       "    <tr style=\"text-align: right;\">\n",
       "      <th></th>\n",
       "      <th>credit.policy</th>\n",
       "      <th>int.rate</th>\n",
       "      <th>installment</th>\n",
       "      <th>log.annual.inc</th>\n",
       "      <th>dti</th>\n",
       "      <th>fico</th>\n",
       "      <th>days.with.cr.line</th>\n",
       "      <th>revol.bal</th>\n",
       "      <th>revol.util</th>\n",
       "      <th>inq.last.6mths</th>\n",
       "      <th>delinq.2yrs</th>\n",
       "      <th>pub.rec</th>\n",
       "      <th>not.fully.paid</th>\n",
       "    </tr>\n",
       "  </thead>\n",
       "  <tbody>\n",
       "    <tr>\n",
       "      <th>count</th>\n",
       "      <td>9578.000000</td>\n",
       "      <td>9578.000000</td>\n",
       "      <td>9578.000000</td>\n",
       "      <td>9578.000000</td>\n",
       "      <td>9578.000000</td>\n",
       "      <td>9578.000000</td>\n",
       "      <td>9578.000000</td>\n",
       "      <td>9.578000e+03</td>\n",
       "      <td>9578.000000</td>\n",
       "      <td>9578.000000</td>\n",
       "      <td>9578.000000</td>\n",
       "      <td>9578.000000</td>\n",
       "      <td>9578.000000</td>\n",
       "    </tr>\n",
       "    <tr>\n",
       "      <th>mean</th>\n",
       "      <td>0.804970</td>\n",
       "      <td>0.122640</td>\n",
       "      <td>319.089413</td>\n",
       "      <td>10.932117</td>\n",
       "      <td>12.606679</td>\n",
       "      <td>710.846314</td>\n",
       "      <td>4560.767197</td>\n",
       "      <td>1.691396e+04</td>\n",
       "      <td>46.799236</td>\n",
       "      <td>1.577469</td>\n",
       "      <td>0.163708</td>\n",
       "      <td>0.062122</td>\n",
       "      <td>0.160054</td>\n",
       "    </tr>\n",
       "    <tr>\n",
       "      <th>std</th>\n",
       "      <td>0.396245</td>\n",
       "      <td>0.026847</td>\n",
       "      <td>207.071301</td>\n",
       "      <td>0.614813</td>\n",
       "      <td>6.883970</td>\n",
       "      <td>37.970537</td>\n",
       "      <td>2496.930377</td>\n",
       "      <td>3.375619e+04</td>\n",
       "      <td>29.014417</td>\n",
       "      <td>2.200245</td>\n",
       "      <td>0.546215</td>\n",
       "      <td>0.262126</td>\n",
       "      <td>0.366676</td>\n",
       "    </tr>\n",
       "    <tr>\n",
       "      <th>min</th>\n",
       "      <td>0.000000</td>\n",
       "      <td>0.060000</td>\n",
       "      <td>15.670000</td>\n",
       "      <td>7.547502</td>\n",
       "      <td>0.000000</td>\n",
       "      <td>612.000000</td>\n",
       "      <td>178.958333</td>\n",
       "      <td>0.000000e+00</td>\n",
       "      <td>0.000000</td>\n",
       "      <td>0.000000</td>\n",
       "      <td>0.000000</td>\n",
       "      <td>0.000000</td>\n",
       "      <td>0.000000</td>\n",
       "    </tr>\n",
       "    <tr>\n",
       "      <th>25%</th>\n",
       "      <td>1.000000</td>\n",
       "      <td>0.103900</td>\n",
       "      <td>163.770000</td>\n",
       "      <td>10.558414</td>\n",
       "      <td>7.212500</td>\n",
       "      <td>682.000000</td>\n",
       "      <td>2820.000000</td>\n",
       "      <td>3.187000e+03</td>\n",
       "      <td>22.600000</td>\n",
       "      <td>0.000000</td>\n",
       "      <td>0.000000</td>\n",
       "      <td>0.000000</td>\n",
       "      <td>0.000000</td>\n",
       "    </tr>\n",
       "    <tr>\n",
       "      <th>50%</th>\n",
       "      <td>1.000000</td>\n",
       "      <td>0.122100</td>\n",
       "      <td>268.950000</td>\n",
       "      <td>10.928884</td>\n",
       "      <td>12.665000</td>\n",
       "      <td>707.000000</td>\n",
       "      <td>4139.958333</td>\n",
       "      <td>8.596000e+03</td>\n",
       "      <td>46.300000</td>\n",
       "      <td>1.000000</td>\n",
       "      <td>0.000000</td>\n",
       "      <td>0.000000</td>\n",
       "      <td>0.000000</td>\n",
       "    </tr>\n",
       "    <tr>\n",
       "      <th>75%</th>\n",
       "      <td>1.000000</td>\n",
       "      <td>0.140700</td>\n",
       "      <td>432.762500</td>\n",
       "      <td>11.291293</td>\n",
       "      <td>17.950000</td>\n",
       "      <td>737.000000</td>\n",
       "      <td>5730.000000</td>\n",
       "      <td>1.824950e+04</td>\n",
       "      <td>70.900000</td>\n",
       "      <td>2.000000</td>\n",
       "      <td>0.000000</td>\n",
       "      <td>0.000000</td>\n",
       "      <td>0.000000</td>\n",
       "    </tr>\n",
       "    <tr>\n",
       "      <th>max</th>\n",
       "      <td>1.000000</td>\n",
       "      <td>0.216400</td>\n",
       "      <td>940.140000</td>\n",
       "      <td>14.528354</td>\n",
       "      <td>29.960000</td>\n",
       "      <td>827.000000</td>\n",
       "      <td>17639.958330</td>\n",
       "      <td>1.207359e+06</td>\n",
       "      <td>119.000000</td>\n",
       "      <td>33.000000</td>\n",
       "      <td>13.000000</td>\n",
       "      <td>5.000000</td>\n",
       "      <td>1.000000</td>\n",
       "    </tr>\n",
       "  </tbody>\n",
       "</table>\n",
       "</div>"
      ],
      "text/plain": [
       "       credit.policy     int.rate  installment  log.annual.inc          dti  \\\n",
       "count    9578.000000  9578.000000  9578.000000     9578.000000  9578.000000   \n",
       "mean        0.804970     0.122640   319.089413       10.932117    12.606679   \n",
       "std         0.396245     0.026847   207.071301        0.614813     6.883970   \n",
       "min         0.000000     0.060000    15.670000        7.547502     0.000000   \n",
       "25%         1.000000     0.103900   163.770000       10.558414     7.212500   \n",
       "50%         1.000000     0.122100   268.950000       10.928884    12.665000   \n",
       "75%         1.000000     0.140700   432.762500       11.291293    17.950000   \n",
       "max         1.000000     0.216400   940.140000       14.528354    29.960000   \n",
       "\n",
       "              fico  days.with.cr.line     revol.bal   revol.util  \\\n",
       "count  9578.000000        9578.000000  9.578000e+03  9578.000000   \n",
       "mean    710.846314        4560.767197  1.691396e+04    46.799236   \n",
       "std      37.970537        2496.930377  3.375619e+04    29.014417   \n",
       "min     612.000000         178.958333  0.000000e+00     0.000000   \n",
       "25%     682.000000        2820.000000  3.187000e+03    22.600000   \n",
       "50%     707.000000        4139.958333  8.596000e+03    46.300000   \n",
       "75%     737.000000        5730.000000  1.824950e+04    70.900000   \n",
       "max     827.000000       17639.958330  1.207359e+06   119.000000   \n",
       "\n",
       "       inq.last.6mths  delinq.2yrs      pub.rec  not.fully.paid  \n",
       "count     9578.000000  9578.000000  9578.000000     9578.000000  \n",
       "mean         1.577469     0.163708     0.062122        0.160054  \n",
       "std          2.200245     0.546215     0.262126        0.366676  \n",
       "min          0.000000     0.000000     0.000000        0.000000  \n",
       "25%          0.000000     0.000000     0.000000        0.000000  \n",
       "50%          1.000000     0.000000     0.000000        0.000000  \n",
       "75%          2.000000     0.000000     0.000000        0.000000  \n",
       "max         33.000000    13.000000     5.000000        1.000000  "
      ]
     },
     "execution_count": 11,
     "metadata": {},
     "output_type": "execute_result"
    }
   ],
   "source": [
    "df.describe()"
   ]
  },
  {
   "cell_type": "code",
   "execution_count": 12,
   "metadata": {},
   "outputs": [
    {
     "name": "stdout",
     "output_type": "stream",
     "text": [
      "\n"
     ]
    },
    {
     "data": {
      "text/plain": [
       "0    8045\n",
       "1    1533\n",
       "Name: not.fully.paid, dtype: int64"
      ]
     },
     "execution_count": 12,
     "metadata": {},
     "output_type": "execute_result"
    },
    {
     "data": {
      "image/png": "[encoded data removed]",
      "text/plain": [
       "<Figure size 432x288 with 1 Axes>"
      ]
     },
     "metadata": {},
     "output_type": "display_data"
    }
   ],
   "source": [
    "df['not.fully.paid'].value_counts().plot(kind= 'bar')\n",
    "print()\n",
    "df['not.fully.paid'].value_counts()"
   ]
  },
  {
   "cell_type": "code",
   "execution_count": 13,
   "metadata": {},
   "outputs": [
    {
     "name": "stdout",
     "output_type": "stream",
     "text": [
      " The percentage of zero = 83.99457089162665\n",
      " The percentage of one = 16.005429108373356\n"
     ]
    }
   ],
   "source": [
    "zeros=(df[\"not.fully.paid\"].value_counts()[0]*100)/len(df)\n",
    "ones=(df[\"not.fully.paid\"].value_counts()[1]*100)/len(df)\n",
    "print(f' The percentage of zero = {zeros}')\n",
    "print(f' The percentage of one = {ones}')"
   ]
  },
  {
   "cell_type": "markdown",
   "metadata": {},
   "source": [
    "The data is imbalanced . Therefore we will use under sampling technique"
   ]
  },
  {
   "cell_type": "code",
   "execution_count": 14,
   "metadata": {},
   "outputs": [],
   "source": [
    "df=pd.get_dummies(df, columns=['purpose'], drop_first=True)"
   ]
  },
  {
   "cell_type": "code",
   "execution_count": 15,
   "metadata": {},
   "outputs": [],
   "source": [
    "df_final=df.drop([\"delinq.2yrs\",\"credit.policy\"],axis=1)\n",
    "#Dropping the least co-related feature"
   ]
  },
  {
   "cell_type": "code",
   "execution_count": 16,
   "metadata": {
    "scrolled": true
   },
   "outputs": [
    {
     "data": {
      "text/html": [
       "<div>\n",
       "<style scoped>\n",
       "    .dataframe tbody tr th:only-of-type {\n",
       "        vertical-align: middle;\n",
       "    }\n",
       "\n",
       "    .dataframe tbody tr th {\n",
       "        vertical-align: top;\n",
       "    }\n",
       "\n",
       "    .dataframe thead th {\n",
       "        text-align: right;\n",
       "    }\n",
       "</style>\n",
       "<table border=\"1\" class=\"dataframe\">\n",
       "  <thead>\n",
       "    <tr style=\"text-align: right;\">\n",
       "      <th></th>\n",
       "      <th>credit.policy</th>\n",
       "      <th>int.rate</th>\n",
       "      <th>installment</th>\n",
       "      <th>log.annual.inc</th>\n",
       "      <th>dti</th>\n",
       "      <th>fico</th>\n",
       "      <th>days.with.cr.line</th>\n",
       "      <th>revol.bal</th>\n",
       "      <th>revol.util</th>\n",
       "      <th>inq.last.6mths</th>\n",
       "      <th>delinq.2yrs</th>\n",
       "      <th>pub.rec</th>\n",
       "      <th>not.fully.paid</th>\n",
       "      <th>purpose_credit_card</th>\n",
       "      <th>purpose_debt_consolidation</th>\n",
       "      <th>purpose_educational</th>\n",
       "      <th>purpose_home_improvement</th>\n",
       "      <th>purpose_major_purchase</th>\n",
       "      <th>purpose_small_business</th>\n",
       "    </tr>\n",
       "  </thead>\n",
       "  <tbody>\n",
       "    <tr>\n",
       "      <th>0</th>\n",
       "      <td>1</td>\n",
       "      <td>0.1189</td>\n",
       "      <td>829.10</td>\n",
       "      <td>11.350407</td>\n",
       "      <td>19.48</td>\n",
       "      <td>737</td>\n",
       "      <td>5639.958333</td>\n",
       "      <td>28854</td>\n",
       "      <td>52.1</td>\n",
       "      <td>0</td>\n",
       "      <td>0</td>\n",
       "      <td>0</td>\n",
       "      <td>0</td>\n",
       "      <td>0</td>\n",
       "      <td>1</td>\n",
       "      <td>0</td>\n",
       "      <td>0</td>\n",
       "      <td>0</td>\n",
       "      <td>0</td>\n",
       "    </tr>\n",
       "    <tr>\n",
       "      <th>1</th>\n",
       "      <td>1</td>\n",
       "      <td>0.1071</td>\n",
       "      <td>228.22</td>\n",
       "      <td>11.082143</td>\n",
       "      <td>14.29</td>\n",
       "      <td>707</td>\n",
       "      <td>2760.000000</td>\n",
       "      <td>33623</td>\n",
       "      <td>76.7</td>\n",
       "      <td>0</td>\n",
       "      <td>0</td>\n",
       "      <td>0</td>\n",
       "      <td>0</td>\n",
       "      <td>1</td>\n",
       "      <td>0</td>\n",
       "      <td>0</td>\n",
       "      <td>0</td>\n",
       "      <td>0</td>\n",
       "      <td>0</td>\n",
       "    </tr>\n",
       "    <tr>\n",
       "      <th>2</th>\n",
       "      <td>1</td>\n",
       "      <td>0.1357</td>\n",
       "      <td>366.86</td>\n",
       "      <td>10.373491</td>\n",
       "      <td>11.63</td>\n",
       "      <td>682</td>\n",
       "      <td>4710.000000</td>\n",
       "      <td>3511</td>\n",
       "      <td>25.6</td>\n",
       "      <td>1</td>\n",
       "      <td>0</td>\n",
       "      <td>0</td>\n",
       "      <td>0</td>\n",
       "      <td>0</td>\n",
       "      <td>1</td>\n",
       "      <td>0</td>\n",
       "      <td>0</td>\n",
       "      <td>0</td>\n",
       "      <td>0</td>\n",
       "    </tr>\n",
       "    <tr>\n",
       "      <th>3</th>\n",
       "      <td>1</td>\n",
       "      <td>0.1008</td>\n",
       "      <td>162.34</td>\n",
       "      <td>11.350407</td>\n",
       "      <td>8.10</td>\n",
       "      <td>712</td>\n",
       "      <td>2699.958333</td>\n",
       "      <td>33667</td>\n",
       "      <td>73.2</td>\n",
       "      <td>1</td>\n",
       "      <td>0</td>\n",
       "      <td>0</td>\n",
       "      <td>0</td>\n",
       "      <td>0</td>\n",
       "      <td>1</td>\n",
       "      <td>0</td>\n",
       "      <td>0</td>\n",
       "      <td>0</td>\n",
       "      <td>0</td>\n",
       "    </tr>\n",
       "    <tr>\n",
       "      <th>4</th>\n",
       "      <td>1</td>\n",
       "      <td>0.1426</td>\n",
       "      <td>102.92</td>\n",
       "      <td>11.299732</td>\n",
       "      <td>14.97</td>\n",
       "      <td>667</td>\n",
       "      <td>4066.000000</td>\n",
       "      <td>4740</td>\n",
       "      <td>39.5</td>\n",
       "      <td>0</td>\n",
       "      <td>1</td>\n",
       "      <td>0</td>\n",
       "      <td>0</td>\n",
       "      <td>1</td>\n",
       "      <td>0</td>\n",
       "      <td>0</td>\n",
       "      <td>0</td>\n",
       "      <td>0</td>\n",
       "      <td>0</td>\n",
       "    </tr>\n",
       "  </tbody>\n",
       "</table>\n",
       "</div>"
      ],
      "text/plain": [
       "   credit.policy  int.rate  installment  log.annual.inc    dti  fico  \\\n",
       "0              1    0.1189       829.10       11.350407  19.48   737   \n",
       "1              1    0.1071       228.22       11.082143  14.29   707   \n",
       "2              1    0.1357       366.86       10.373491  11.63   682   \n",
       "3              1    0.1008       162.34       11.350407   8.10   712   \n",
       "4              1    0.1426       102.92       11.299732  14.97   667   \n",
       "\n",
       "   days.with.cr.line  revol.bal  revol.util  inq.last.6mths  delinq.2yrs  \\\n",
       "0        5639.958333      28854        52.1               0            0   \n",
       "1        2760.000000      33623        76.7               0            0   \n",
       "2        4710.000000       3511        25.6               1            0   \n",
       "3        2699.958333      33667        73.2               1            0   \n",
       "4        4066.000000       4740        39.5               0            1   \n",
       "\n",
       "   pub.rec  not.fully.paid  purpose_credit_card  purpose_debt_consolidation  \\\n",
       "0        0               0                    0                           1   \n",
       "1        0               0                    1                           0   \n",
       "2        0               0                    0                           1   \n",
       "3        0               0                    0                           1   \n",
       "4        0               0                    1                           0   \n",
       "\n",
       "   purpose_educational  purpose_home_improvement  purpose_major_purchase  \\\n",
       "0                    0                         0                       0   \n",
       "1                    0                         0                       0   \n",
       "2                    0                         0                       0   \n",
       "3                    0                         0                       0   \n",
       "4                    0                         0                       0   \n",
       "\n",
       "   purpose_small_business  \n",
       "0                       0  \n",
       "1                       0  \n",
       "2                       0  \n",
       "3                       0  \n",
       "4                       0  "
      ]
     },
     "execution_count": 16,
     "metadata": {},
     "output_type": "execute_result"
    }
   ],
   "source": [
    "df.head()"
   ]
  },
  {
   "cell_type": "code",
   "execution_count": 17,
   "metadata": {},
   "outputs": [],
   "source": [
    "X=df_final.drop([\"not.fully.paid\"],axis=1)\n",
    "y=df_final[\"not.fully.paid\"]"
   ]
  },
  {
   "cell_type": "code",
   "execution_count": 18,
   "metadata": {},
   "outputs": [
    {
     "name": "stdout",
     "output_type": "stream",
     "text": [
      "(9578, 16)\n",
      "(9578,)\n"
     ]
    }
   ],
   "source": [
    "print(X.shape)\n",
    "print(y.shape)"
   ]
  },
  {
   "cell_type": "markdown",
   "metadata": {},
   "source": [
    "# Splitting the data and enabling the stratify"
   ]
  },
  {
   "cell_type": "code",
   "execution_count": 19,
   "metadata": {},
   "outputs": [],
   "source": [
    "# splitting the data \n",
    "from sklearn.model_selection import train_test_split\n",
    "X_train,X_test,y_train,y_test=train_test_split(X,y,random_state=0,test_size=0.2,stratify=y)"
   ]
  },
  {
   "cell_type": "code",
   "execution_count": 20,
   "metadata": {},
   "outputs": [
    {
     "data": {
      "text/plain": [
       "(7662, 16)"
      ]
     },
     "execution_count": 20,
     "metadata": {},
     "output_type": "execute_result"
    }
   ],
   "source": [
    "X_train.shape"
   ]
  },
  {
   "cell_type": "markdown",
   "metadata": {},
   "source": [
    "# Normalising the final dataset for the model"
   ]
  },
  {
   "cell_type": "code",
   "execution_count": 21,
   "metadata": {},
   "outputs": [],
   "source": [
    "from sklearn.preprocessing import StandardScaler\n",
    "Std=StandardScaler()"
   ]
  },
  {
   "cell_type": "code",
   "execution_count": 22,
   "metadata": {},
   "outputs": [],
   "source": [
    "X_train=Std.fit_transform(X_train)\n",
    "X_test=Std.fit_transform(X_test)"
   ]
  },
  {
   "cell_type": "markdown",
   "metadata": {},
   "source": [
    "# Deep Learning Model"
   ]
  },
  {
   "cell_type": "code",
   "execution_count": 23,
   "metadata": {},
   "outputs": [],
   "source": [
    "#building model\n",
    "from tensorflow.keras.models import Sequential\n",
    "from tensorflow.keras.layers import Dense, Dropout\n",
    "from tensorflow.keras.regularizers import l2"
   ]
  },
  {
   "cell_type": "code",
   "execution_count": 24,
   "metadata": {},
   "outputs": [],
   "source": [
    "train_x = np.asarray(X_train)\n",
    "test_x = np.asarray(X_test)\n",
    "train_y=np.asarray(y_train)\n",
    "test_y=np.asarray(y_test)"
   ]
  },
  {
   "cell_type": "code",
   "execution_count": 25,
   "metadata": {},
   "outputs": [
    {
     "name": "stdout",
     "output_type": "stream",
     "text": [
      "Train on 7662 samples\n",
      "Epoch 1/100\n",
      "WARNING:tensorflow:From C:\\Users\\LENOVO\\Anaconda3\\lib\\site-packages\\tensorflow_core\\python\\ops\\nn_impl.py:183: where (from tensorflow.python.ops.array_ops) is deprecated and will be removed in a future version.\n",
      "Instructions for updating:\n",
      "Use tf.where in 2.0, which has the same broadcast rule as np.where\n",
      "7662/7662 [==============================] - 4s 586us/sample - loss: 0.4305 - accuracy: 0.8395\n",
      "Epoch 2/100\n",
      "7662/7662 [==============================] - 3s 345us/sample - loss: 0.4123 - accuracy: 0.8392\n",
      "Epoch 3/100\n",
      "7662/7662 [==============================] - 3s 388us/sample - loss: 0.4087 - accuracy: 0.8405\n",
      "Epoch 4/100\n",
      "7662/7662 [==============================] - 4s 480us/sample - loss: 0.4053 - accuracy: 0.8408\n",
      "Epoch 5/100\n",
      "7662/7662 [==============================] - 3s 344us/sample - loss: 0.4022 - accuracy: 0.8426\n",
      "Epoch 6/100\n",
      "7662/7662 [==============================] - 1s 163us/sample - loss: 0.3996 - accuracy: 0.8429\n",
      "Epoch 7/100\n",
      "7662/7662 [==============================] - 1s 150us/sample - loss: 0.3961 - accuracy: 0.8426\n",
      "Epoch 8/100\n",
      "7662/7662 [==============================] - 1s 144us/sample - loss: 0.3929 - accuracy: 0.8444\n",
      "Epoch 9/100\n",
      "7662/7662 [==============================] - 2s 220us/sample - loss: 0.3893 - accuracy: 0.8443\n",
      "Epoch 10/100\n",
      "7662/7662 [==============================] - 2s 268us/sample - loss: 0.3853 - accuracy: 0.8464\n",
      "Epoch 11/100\n",
      "7662/7662 [==============================] - 1s 161us/sample - loss: 0.3828 - accuracy: 0.8476\n",
      "Epoch 12/100\n",
      "7662/7662 [==============================] - 2s 275us/sample - loss: 0.3788 - accuracy: 0.8498\n",
      "Epoch 13/100\n",
      "7662/7662 [==============================] - 2s 237us/sample - loss: 0.3739 - accuracy: 0.8510\n",
      "Epoch 14/100\n",
      "7662/7662 [==============================] - 1s 148us/sample - loss: 0.3685 - accuracy: 0.8526\n",
      "Epoch 15/100\n",
      "7662/7662 [==============================] - 1s 175us/sample - loss: 0.3632 - accuracy: 0.8543\n",
      "Epoch 16/100\n",
      "7662/7662 [==============================] - 1s 153us/sample - loss: 0.3564 - accuracy: 0.8593\n",
      "Epoch 17/100\n",
      "7662/7662 [==============================] - 1s 190us/sample - loss: 0.3534 - accuracy: 0.8575 - loss: 0.3514 - \n",
      "Epoch 18/100\n",
      "7662/7662 [==============================] - 2s 198us/sample - loss: 0.3474 - accuracy: 0.8619\n",
      "Epoch 19/100\n",
      "7662/7662 [==============================] - 1s 189us/sample - loss: 0.3401 - accuracy: 0.8671\n",
      "Epoch 20/100\n",
      "7662/7662 [==============================] - 3s 382us/sample - loss: 0.3363 - accuracy: 0.8657\n",
      "Epoch 21/100\n",
      "7662/7662 [==============================] - 3s 360us/sample - loss: 0.3288 - accuracy: 0.8686\n",
      "Epoch 22/100\n",
      "7662/7662 [==============================] - 3s 449us/sample - loss: 0.3241 - accuracy: 0.8743\n",
      "Epoch 23/100\n",
      "7662/7662 [==============================] - 2s 230us/sample - loss: 0.3198 - accuracy: 0.8750 - loss: 0.3452 \n",
      "Epoch 24/100\n",
      "7662/7662 [==============================] - 2s 227us/sample - loss: 0.3122 - accuracy: 0.8782\n",
      "Epoch 25/100\n",
      "7662/7662 [==============================] - 2s 315us/sample - loss: 0.3081 - accuracy: 0.8785\n",
      "Epoch 26/100\n",
      "7662/7662 [==============================] - 1s 141us/sample - loss: 0.3060 - accuracy: 0.8797\n",
      "Epoch 27/100\n",
      "7662/7662 [==============================] - 2s 229us/sample - loss: 0.2971 - accuracy: 0.8825\n",
      "Epoch 28/100\n",
      "7662/7662 [==============================] - 1s 154us/sample - loss: 0.2913 - accuracy: 0.8833\n",
      "Epoch 29/100\n",
      "7662/7662 [==============================] - 1s 156us/sample - loss: 0.2872 - accuracy: 0.8898\n",
      "Epoch 30/100\n",
      "7662/7662 [==============================] - 1s 170us/sample - loss: 0.2835 - accuracy: 0.8863\n",
      "Epoch 31/100\n",
      "7662/7662 [==============================] - 1s 149us/sample - loss: 0.2772 - accuracy: 0.8926\n",
      "Epoch 32/100\n",
      "7662/7662 [==============================] - 1s 144us/sample - loss: 0.2706 - accuracy: 0.8949\n",
      "Epoch 33/100\n",
      "7662/7662 [==============================] - 2s 198us/sample - loss: 0.2677 - accuracy: 0.8934\n",
      "Epoch 34/100\n",
      "7662/7662 [==============================] - 2s 243us/sample - loss: 0.2608 - accuracy: 0.8991\n",
      "Epoch 35/100\n",
      "7662/7662 [==============================] - 3s 453us/sample - loss: 0.2609 - accuracy: 0.8962\n",
      "Epoch 36/100\n",
      "7662/7662 [==============================] - 3s 352us/sample - loss: 0.2508 - accuracy: 0.9009\n",
      "Epoch 37/100\n",
      "7662/7662 [==============================] - 3s 378us/sample - loss: 0.2468 - accuracy: 0.9008\n",
      "Epoch 38/100\n",
      "7662/7662 [==============================] - 2s 201us/sample - loss: 0.2433 - accuracy: 0.9060\n",
      "Epoch 39/100\n",
      "7662/7662 [==============================] - 1s 150us/sample - loss: 0.2385 - accuracy: 0.9045\n",
      "Epoch 40/100\n",
      "7662/7662 [==============================] - 3s 351us/sample - loss: 0.2314 - accuracy: 0.9105\n",
      "Epoch 41/100\n",
      "7662/7662 [==============================] - 4s 481us/sample - loss: 0.2291 - accuracy: 0.9110\n",
      "Epoch 42/100\n",
      "7662/7662 [==============================] - 3s 352us/sample - loss: 0.2240 - accuracy: 0.9129\n",
      "Epoch 43/100\n",
      "7662/7662 [==============================] - 3s 375us/sample - loss: 0.2213 - accuracy: 0.9148\n",
      "Epoch 44/100\n",
      "7662/7662 [==============================] - 4s 464us/sample - loss: 0.2173 - accuracy: 0.9137 - loss: 0.2133 - \n",
      "Epoch 45/100\n",
      "7662/7662 [==============================] - 3s 408us/sample - loss: 0.2108 - accuracy: 0.9195\n",
      "Epoch 46/100\n",
      "7662/7662 [==============================] - 3s 440us/sample - loss: 0.2108 - accuracy: 0.9183\n",
      "Epoch 47/100\n",
      "7662/7662 [==============================] - 3s 441us/sample - loss: 0.2001 - accuracy: 0.9221\n",
      "Epoch 48/100\n",
      "7662/7662 [==============================] - 2s 326us/sample - loss: 0.2015 - accuracy: 0.9223\n",
      "Epoch 49/100\n",
      "7662/7662 [==============================] - 3s 420us/sample - loss: 0.1999 - accuracy: 0.9217\n",
      "Epoch 50/100\n",
      "7662/7662 [==============================] - 2s 218us/sample - loss: 0.1936 - accuracy: 0.9227\n",
      "Epoch 51/100\n",
      "7662/7662 [==============================] - 3s 370us/sample - loss: 0.1903 - accuracy: 0.9272\n",
      "Epoch 52/100\n",
      "7662/7662 [==============================] - 3s 349us/sample - loss: 0.1825 - accuracy: 0.9299 - loss: 0.1838 - accu\n",
      "Epoch 53/100\n",
      "7662/7662 [==============================] - 2s 196us/sample - loss: 0.1863 - accuracy: 0.9255 - loss: 0.1759 - accura - ETA: 0s - loss: 0.1782 - \n",
      "Epoch 54/100\n",
      "7662/7662 [==============================] - 1s 164us/sample - loss: 0.1822 - accuracy: 0.9294\n",
      "Epoch 55/100\n",
      "7662/7662 [==============================] - 1s 154us/sample - loss: 0.1739 - accuracy: 0.9354\n",
      "Epoch 56/100\n",
      "7662/7662 [==============================] - 2s 216us/sample - loss: 0.1698 - accuracy: 0.9370\n",
      "Epoch 57/100\n",
      "7662/7662 [==============================] - 3s 371us/sample - loss: 0.1729 - accuracy: 0.9340\n",
      "Epoch 58/100\n",
      "7662/7662 [==============================] - 2s 199us/sample - loss: 0.1685 - accuracy: 0.9355\n",
      "Epoch 59/100\n",
      "7662/7662 [==============================] - 2s 239us/sample - loss: 0.1622 - accuracy: 0.9371\n",
      "Epoch 60/100\n",
      "7662/7662 [==============================] - 3s 400us/sample - loss: 0.1647 - accuracy: 0.9377\n",
      "Epoch 61/100\n",
      "7662/7662 [==============================] - 3s 444us/sample - loss: 0.1565 - accuracy: 0.9406\n",
      "Epoch 62/100\n",
      "7662/7662 [==============================] - 1s 176us/sample - loss: 0.1506 - accuracy: 0.9439 - l\n",
      "Epoch 63/100\n",
      "7662/7662 [==============================] - 2s 198us/sample - loss: 0.1529 - accuracy: 0.9454\n",
      "Epoch 64/100\n",
      "7662/7662 [==============================] - 3s 404us/sample - loss: 0.1539 - accuracy: 0.9434\n",
      "Epoch 65/100\n",
      "7662/7662 [==============================] - 3s 367us/sample - loss: 0.1506 - accuracy: 0.9447\n",
      "Epoch 66/100\n",
      "7662/7662 [==============================] - 2s 266us/sample - loss: 0.1462 - accuracy: 0.9447\n",
      "Epoch 67/100\n",
      "7662/7662 [==============================] - 1s 147us/sample - loss: 0.1473 - accuracy: 0.9465\n",
      "Epoch 68/100\n",
      "7662/7662 [==============================] - 2s 265us/sample - loss: 0.1342 - accuracy: 0.9504\n",
      "Epoch 69/100\n",
      "7662/7662 [==============================] - 3s 407us/sample - loss: 0.1428 - accuracy: 0.9474\n",
      "Epoch 70/100\n",
      "7662/7662 [==============================] - 3s 361us/sample - loss: 0.1419 - accuracy: 0.9477\n",
      "Epoch 71/100\n",
      "7662/7662 [==============================] - 3s 361us/sample - loss: 0.1379 - accuracy: 0.9487\n",
      "Epoch 72/100\n",
      "7662/7662 [==============================] - 3s 444us/sample - loss: 0.1329 - accuracy: 0.9488\n",
      "Epoch 73/100\n",
      "7662/7662 [==============================] - 3s 420us/sample - loss: 0.1316 - accuracy: 0.9514\n",
      "Epoch 74/100\n",
      "7662/7662 [==============================] - 4s 489us/sample - loss: 0.1344 - accuracy: 0.9490\n",
      "Epoch 75/100\n",
      "7662/7662 [==============================] - 4s 475us/sample - loss: 0.1256 - accuracy: 0.9529\n",
      "Epoch 76/100\n",
      "7662/7662 [==============================] - 4s 473us/sample - loss: 0.1239 - accuracy: 0.9537\n",
      "Epoch 77/100\n",
      "7662/7662 [==============================] - 4s 472us/sample - loss: 0.1220 - accuracy: 0.9550\n",
      "Epoch 78/100\n",
      "7662/7662 [==============================] - 4s 489us/sample - loss: 0.1217 - accuracy: 0.9541\n",
      "Epoch 79/100\n",
      "7662/7662 [==============================] - 3s 397us/sample - loss: 0.1228 - accuracy: 0.9541\n",
      "Epoch 80/100\n",
      "7662/7662 [==============================] - 3s 412us/sample - loss: 0.1298 - accuracy: 0.9516\n",
      "Epoch 81/100\n",
      "7662/7662 [==============================] - 4s 488us/sample - loss: 0.1225 - accuracy: 0.9541\n",
      "Epoch 82/100\n",
      "7662/7662 [==============================] - 3s 373us/sample - loss: 0.1190 - accuracy: 0.9552\n",
      "Epoch 83/100\n",
      "7662/7662 [==============================] - 2s 312us/sample - loss: 0.1105 - accuracy: 0.9582\n",
      "Epoch 84/100\n",
      "7662/7662 [==============================] - 2s 321us/sample - loss: 0.1171 - accuracy: 0.9548\n",
      "Epoch 85/100\n",
      "7662/7662 [==============================] - 4s 479us/sample - loss: 0.1149 - accuracy: 0.9573\n",
      "Epoch 86/100\n",
      "7662/7662 [==============================] - 3s 390us/sample - loss: 0.1010 - accuracy: 0.9627\n",
      "Epoch 87/100\n",
      "7662/7662 [==============================] - 4s 491us/sample - loss: 0.1207 - accuracy: 0.9547\n",
      "Epoch 88/100\n",
      "7662/7662 [==============================] - 2s 221us/sample - loss: 0.1030 - accuracy: 0.9627\n",
      "Epoch 89/100\n",
      "7662/7662 [==============================] - 1s 172us/sample - loss: 0.1118 - accuracy: 0.9581\n",
      "Epoch 90/100\n",
      "7662/7662 [==============================] - 3s 389us/sample - loss: 0.1053 - accuracy: 0.9607\n",
      "Epoch 91/100\n",
      "7662/7662 [==============================] - 4s 491us/sample - loss: 0.1047 - accuracy: 0.9653\n",
      "Epoch 92/100\n",
      "7662/7662 [==============================] - 4s 458us/sample - loss: 0.1057 - accuracy: 0.9616\n",
      "Epoch 93/100\n",
      "7662/7662 [==============================] - 3s 340us/sample - loss: 0.1059 - accuracy: 0.9607\n",
      "Epoch 94/100\n",
      "7662/7662 [==============================] - 1s 150us/sample - loss: 0.0975 - accuracy: 0.9641\n",
      "Epoch 95/100\n",
      "7662/7662 [==============================] - 3s 338us/sample - loss: 0.0948 - accuracy: 0.9641\n",
      "Epoch 96/100\n",
      "7662/7662 [==============================] - 3s 414us/sample - loss: 0.1053 - accuracy: 0.9591\n",
      "Epoch 97/100\n",
      "7662/7662 [==============================] - 4s 470us/sample - loss: 0.1043 - accuracy: 0.9611\n",
      "Epoch 98/100\n",
      "7662/7662 [==============================] - 1s 170us/sample - loss: 0.0902 - accuracy: 0.9642\n",
      "Epoch 99/100\n",
      "7662/7662 [==============================] - 2s 253us/sample - loss: 0.0898 - accuracy: 0.9661\n",
      "Epoch 100/100\n",
      "7662/7662 [==============================] - 2s 199us/sample - loss: 0.0903 - accuracy: 0.9655\n"
     ]
    }
   ],
   "source": [
    "#creating model\n",
    "model=Sequential()\n",
    "\n",
    "model.add(Dense(60,activation='relu',input_dim = 16))\n",
    "# Hidden layers\n",
    "model.add(Dense(60,activation='relu',name=\"Hidden1\"))\n",
    "model.add(Dense(30,activation='relu',name=\"Hidden2\"))\n",
    "#output layer\n",
    "model.add(Dense(1,activation='sigmoid'))\n",
    "#compile the model\n",
    "model.compile(loss='binary_crossentropy',optimizer=\"adam\",metrics=['accuracy'])\n",
    "\n",
    "model_history=model.fit(train_x, train_y, batch_size = 10, epochs = 100)"
   ]
  },
  {
   "cell_type": "code",
   "execution_count": 26,
   "metadata": {},
   "outputs": [
    {
     "name": "stdout",
     "output_type": "stream",
     "text": [
      "Model: \"sequential\"\n",
      "_________________________________________________________________\n",
      "Layer (type)                 Output Shape              Param #   \n",
      "=================================================================\n",
      "dense (Dense)                (None, 60)                1020      \n",
      "_________________________________________________________________\n",
      "Hidden1 (Dense)              (None, 60)                3660      \n",
      "_________________________________________________________________\n",
      "Hidden2 (Dense)              (None, 30)                1830      \n",
      "_________________________________________________________________\n",
      "dense_1 (Dense)              (None, 1)                 31        \n",
      "=================================================================\n",
      "Total params: 6,541\n",
      "Trainable params: 6,541\n",
      "Non-trainable params: 0\n",
      "_________________________________________________________________\n"
     ]
    }
   ],
   "source": [
    "model.summary()"
   ]
  },
  {
   "cell_type": "code",
   "execution_count": 27,
   "metadata": {},
   "outputs": [
    {
     "data": {
      "text/plain": [
       "<function matplotlib.pyplot.show(*args, **kw)>"
      ]
     },
     "execution_count": 27,
     "metadata": {},
     "output_type": "execute_result"
    },
    {
     "data": {
      "image/png": "[encoded data removed]",
      "text/plain": [
       "<Figure size 432x288 with 1 Axes>"
      ]
     },
     "metadata": {},
     "output_type": "display_data"
    }
   ],
   "source": [
    "plt.plot(model_history.history['accuracy'], 'r-', label = 'accuracy', linewidth=2)\n",
    "plt.plot(model_history.history['loss'], 'blue', label = 'loss', linewidth=2)\n",
    "plt.ylabel('accuracy')\n",
    "plt.xlabel('epoch')\n",
    "plt.legend(['train', 'loss'], loc='upper left')\n",
    "plt.show"
   ]
  },
  {
   "cell_type": "markdown",
   "metadata": {},
   "source": [
    "# Accuracy can be seen 96 percent for the model and now we check for test data"
   ]
  },
  {
   "cell_type": "code",
   "execution_count": null,
   "metadata": {},
   "outputs": [],
   "source": []
  },
  {
   "cell_type": "code",
   "execution_count": 28,
   "metadata": {},
   "outputs": [],
   "source": [
    "y_pred=model.predict(test_x)\n",
    "y_pred = (y_pred > 0.5)\n"
   ]
  },
  {
   "cell_type": "code",
   "execution_count": 29,
   "metadata": {},
   "outputs": [
    {
     "data": {
      "text/plain": [
       "0.7734864300626305"
      ]
     },
     "execution_count": 29,
     "metadata": {},
     "output_type": "execute_result"
    }
   ],
   "source": [
    "# Calculate the Accuracy\n",
    "from sklearn.metrics import accuracy_score\n",
    "score=accuracy_score(y_pred,y_test)\n",
    "score"
   ]
  },
  {
   "cell_type": "markdown",
   "metadata": {},
   "source": [
    "# Accuracy score for the test data set is 77 percent approx"
   ]
  },
  {
   "cell_type": "code",
   "execution_count": null,
   "metadata": {},
   "outputs": [],
   "source": []
  },
  {
   "cell_type": "code",
   "execution_count": null,
   "metadata": {},
   "outputs": [],
   "source": []
  },
  {
   "cell_type": "code",
   "execution_count": null,
   "metadata": {},
   "outputs": [],
   "source": []
  },
  {
   "cell_type": "code",
   "execution_count": null,
   "metadata": {},
   "outputs": [],
   "source": []
  },
  {
   "cell_type": "code",
   "execution_count": null,
   "metadata": {},
   "outputs": [],
   "source": []
  },
  {
   "cell_type": "code",
   "execution_count": null,
   "metadata": {},
   "outputs": [],
   "source": []
  },
  {
   "cell_type": "code",
   "execution_count": null,
   "metadata": {},
   "outputs": [],
   "source": []
  },
  {
   "cell_type": "code",
   "execution_count": null,
   "metadata": {},
   "outputs": [],
   "source": []
  }
 ],
 "metadata": {
  "kernelspec": {
   "display_name": "Python 3",
   "language": "python",
   "name": "python3"
  },
  "language_info": {
   "codemirror_mode": {
    "name": "ipython",
    "version": 3
   },
   "file_extension": ".py",
   "mimetype": "text/x-python",
   "name": "python",
   "nbconvert_exporter": "python",
   "pygments_lexer": "ipython3",
   "version": "3.6.5"
  }
 },
 "nbformat": 4,
 "nbformat_minor": 2
}
